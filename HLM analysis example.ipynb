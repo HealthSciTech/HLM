{
 "cells": [
  {
   "cell_type": "markdown",
   "metadata": {},
   "source": [
    "# HLM\n",
    "\n",
    "Hierarchical linear models (aka mutlievel (mixed-effects) models) are a new way of analysis to consider the intra- within subject variablities."
   ]
  },
  {
   "cell_type": "code",
   "execution_count": 1,
   "metadata": {},
   "outputs": [],
   "source": [
    "# Python 3\n",
    "import random\n",
    "import numpy as np\n",
    "import pandas as pd\n",
    "import matplotlib.ticker\n",
    "import scipy.stats as stats\n",
    "import statsmodels.api as sm\n",
    "from datetime import datetime\n",
    "import matplotlib.pyplot as plt\n",
    "import statsmodels.formula.api as smf\n",
    "from sklearn.linear_model import LinearRegression\n",
    "import seaborn as sns\n",
    "sns.set_style(\"white\")"
   ]
  },
  {
   "cell_type": "code",
   "execution_count": 2,
   "metadata": {},
   "outputs": [],
   "source": [
    "# this function fit a HLM, level 1 predictor is week (or time) and groups are individuals\n",
    "def mixedlm_fit_2level(axis, data, method):\n",
    "                        \n",
    "    model = sm.MixedLM.from_formula(axis, data, re_formula=\"week\", groups='User_ID')\n",
    "    results = model.fit(method=method) # could be one of powell, lbfgs, cg or bfgs. Try the one that converges.\n",
    "    print(results.summary())\n",
    "    print(results.resid.values)\n",
    "    fig = sm.qqplot(results.resid.values, stats.t, fit=True, line='45') ## qqplot for residuals\n",
    "    return model, results"
   ]
  },
  {
   "cell_type": "code",
   "execution_count": 3,
   "metadata": {},
   "outputs": [],
   "source": [
    "def combined_plot_HLM(before_df, after_df, \n",
    "                      before_x_min, before_x_max, after_x_min, after_x_max,\n",
    "                      y_min, y_max, x_feature, y_feature, IDs,\n",
    "                      before_slope, before_intercept, after_slope, after_intercept, name=None):\n",
    "\n",
    "    # two plots for distinguishing between before/after the effect time using independent variable of time\n",
    "    fig, axs = plt.subplots(ncols=2, figsize=(12, 5), gridspec_kw={'width_ratios': [1.5, 1.5]})\n",
    "    sns.scatterplot(x=x_feature, y=y_feature,\n",
    "                    data=before_df, alpha=0.1, palette='Paired', legend='full', x_jitter=0.5, ax=axs[0])\n",
    "    g = sns.scatterplot(x=x_feature, y=y_feature,\n",
    "                    data=after_df, alpha=0.1, palette='Paired', legend='full', x_jitter=0.5, ax=axs[1])\n",
    "    \n",
    "    # thin spagetti lines\n",
    "    for idx, _id in enumerate(IDs):\n",
    "        c=(random.uniform(0, 1), random.uniform(0, 1), random.uniform(0, 1))\n",
    "        axs[0].plot(before_df[before_df['User_ID'] == _id].week, \n",
    "                 before_df[before_df['User_ID'] == _id].ActivityEstimate,\n",
    "                 c=c, label=str(idx + 1), linewidth=1, alpha=1)\n",
    "        axs[1].plot(after_df[after_df['User_ID'] == _id].week, \n",
    "                 after_df[after_df['User_ID'] == _id].ActivityEstimate,\n",
    "                 c=c, label=str(idx + 1), linewidth=1, alpha=1)\n",
    "    \n",
    "    # thick average line\n",
    "    x_vals = np.array(axs[0].get_xlim())\n",
    "    y_vals = before_intercept + before_slope * x_vals\n",
    "    axs[0].plot(x_vals, y_vals, '-', c=(0.0, 0.0, 0.0), alpha=1, linewidth=4, label='Total')\n",
    "    x_vals = np.array(axs[1].get_xlim())\n",
    "    y_vals = after_intercept + after_slope * x_vals\n",
    "    axs[1].plot(x_vals, y_vals, '-', c=(0.0, 0.0, 0.0), alpha=1, linewidth=4, label='Total')\n",
    "    \n",
    "    axs[0].set(xlim=(before_x_min, before_x_max), ylim=(y_min, y_max))\n",
    "    axs[1].set(xlim=(after_x_min, after_x_max), ylim=(y_min, y_max))\n",
    "    \n",
    "    g.legend(loc='center left', bbox_to_anchor=(1.0, 0.5), ncol=2)\n",
    "    \n",
    "    # [Optional] for handling the x-axis steps\n",
    "    locator = matplotlib.ticker.MultipleLocator(5)\n",
    "    axs[0].xaxis.set_major_locator(locator)\n",
    "    formatter = matplotlib.ticker.StrMethodFormatter(\"{x:.0f}\")\n",
    "    axs[0].xaxis.set_major_formatter(formatter)\n",
    "    \n",
    "    locator = matplotlib.ticker.MultipleLocator(5)\n",
    "    axs[1].xaxis.set_major_locator(locator)\n",
    "    formatter = matplotlib.ticker.StrMethodFormatter(\"{x:.0f}\")\n",
    "    axs[1].xaxis.set_major_formatter(formatter)\n",
    "        \n",
    "    #axs[0].set_xlabel('day')\n",
    "    #axs[1].set_xlabel('day')\n",
    "\n",
    "    if name == None:\n",
    "        name = y_feature\n",
    "    #plt.title(y_feature)\n",
    "    plt.savefig(\"./results/HLM_combined-\"+str(name)+\".pdf\", bbox_inches='tight')"
   ]
  },
  {
   "cell_type": "markdown",
   "metadata": {},
   "source": [
    "Here we have an example for loading sleep data before and after COVID19 with following variables/sections:\n",
    "- IDs: keep track of individuals IDs\n",
    "- time: 0 for before COVID19 and 1 during COVID19\n",
    "- To remove outliers we did z-score conversion and removing everything beyond 3*sigma\n",
    "- Fitting the model to estimate total sleep time (TST).\n",
    "- To access the predicted values we use .fittedvalues\n",
    "- And finally we plot the spagetti chart for TST"
   ]
  },
  {
   "cell_type": "markdown",
   "metadata": {},
   "source": [
    "To interpreting the results you can using following information:\n",
    "- User ID var: var of Intercept as a random effect \n",
    "- Week Var: var of slope as a random effect\n",
    "Equations:\n",
    "- Before Covid19: TST = Intercept + week * (x=week) //// time = 0\n",
    "- During Covid19: TST = Intercept + time + (week + time:week) * (x=week) //// time = 1"
   ]
  },
  {
   "cell_type": "code",
   "execution_count": null,
   "metadata": {},
   "outputs": [],
   "source": [
    "IDs = [34, 35, 36, 39, 42, 43, 44, 49, 50, 51, 52, 54, 55, 56, 57, 60, 61, \n",
    "       62, 63, 64, 66, 67, 68, 69, 71, 81, 37, 40, 41, 45, 46, 47, 48, 53, 58, 59, 70] \n",
    "\n",
    "agg_df_before = pd.read_csv('agg_sleep_before.csv')\n",
    "agg_df_after = pd.read_csv('agg_sleep_after.csv')\n",
    "\n",
    "agg_df_before['time'] = 0\n",
    "agg_df_after['time'] = 1\n",
    "\n",
    "# necessary to start from zero for both groups when you want to report stats\n",
    "agg_df_before['week'] = agg_df_before['week'] - agg_df_before['week'].min()\n",
    "agg_df_after['week'] = agg_df_after['week'] - agg_df_after['week'].min()\n",
    "agg_df_before = agg_df_before[agg_df_before['week'] < 28]\n",
    "agg_df_after = agg_df_after[agg_df_after['week'] < 28]\n",
    "\n",
    "total = pd.concat([agg_df_before, agg_df_after])\n",
    "\n",
    "# outlier removal\n",
    "z = np.abs(stats.zscore(total['TST']))\n",
    "outlier_idx = list(np.where(z > 3)[0])\n",
    "total_temp = total.drop(total.index[outlier_idx]).copy()\n",
    "\n",
    "total_temp.rename(columns = {'subjectID':'User_ID'}, inplace = True) \n",
    "total_temp = total_temp.reset_index()\n",
    "\n",
    "# learning and prediction\n",
    "model1, results1 = mixedlm_fit_2level(\"TST ~ week + time*week\", total_temp, \"powell\")\n",
    "total_temp['ActivityEstimate'] = results1.fittedvalues\n",
    "\n",
    "# spagetti charts\n",
    "combined_plot_HLM(total_temp[total_temp['time']==0].copy(), total_temp[total_temp['time']==1].copy(), \n",
    "                      total_temp[total_temp['time']==0]['week'].min(), total_temp[total_temp['time']==0]['week'].max(),\n",
    "                      total_temp[total_temp['time']==1]['week'].min(), total_temp[total_temp['time']==1]['week'].max(),\n",
    "                      300, 700, 'week', 'TST', IDs,\n",
    "                      results1.params['week'], results1.params['Intercept'],\n",
    "                      results1.params['week']+results1.params['time:week'], results1.params['Intercept']+results1.params['time'], 'TST-2level')"
   ]
  }
 ],
 "metadata": {
  "kernelspec": {
   "display_name": "Python 3",
   "language": "python",
   "name": "python3"
  },
  "language_info": {
   "codemirror_mode": {
    "name": "ipython",
    "version": 3
   },
   "file_extension": ".py",
   "mimetype": "text/x-python",
   "name": "python",
   "nbconvert_exporter": "python",
   "pygments_lexer": "ipython3",
   "version": "3.6.8"
  }
 },
 "nbformat": 4,
 "nbformat_minor": 2
}
